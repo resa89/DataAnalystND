{
 "cells": [
  {
   "cell_type": "markdown",
   "metadata": {},
   "source": [
    "|   * * * * * * * * * *   | **Udacity**         | \n",
    "| -------------           |:-------------:      |\n",
    "| **Nanodegree:**         | *Data Analyst*    | \n",
    "| **Student:**            | *Theresa Kocher*    |\n",
    "| **Date:**               | *29th April 2019*|"
   ]
  },
  {
   "cell_type": "markdown",
   "metadata": {},
   "source": [
    "# Introduction\n",
    "\n",
    "In this study, three different views to the tweets of the famous twitter account *WeRateDogs* were examined. The first view to the data comes from the [WeRateDogs tweets archive](https://d17h27t6h515a5.cloudfront.net/topher/2017/August/59a4e958_twitter-archive-enhanced/twitter-archive-enhanced.csv). It contains the rates every dog got from the *WeRateDogs* authors. The second view to this tweets contains the [dog's breed](https://d17h27t6h515a5.cloudfront.net/topher/2017/August/599fd2ad_image-predictions/image-predictions.tsv), which was classified by a neural network in the Udacity's *Machine Learning* Nanodegree program. And the last view to the tweets is accessed from twitter itself by using the [Tweepy API](https://www.tweepy.org/). This data contains how often a tweet was retweeted and labeled as favorite from other twitter users.\n",
    "\n",
    "# Which one is the best dog?\n",
    "\n",
    "All sources give us a different option to estimate the value of the dogs or at least of the corresponding tweets. The first data set gives us the `rates` the authors published in the tweet. This tells us which dogs gave the most pleasure to the authors. The second source gives us a predictability confidence for each tweet, which tells us how easy it is to predict the dog's breed. And the last source gives us a rating from the twitter community with every tweet's favorite and retweet counts.\n",
    "\n",
    "Therefore, we have three different measures to rate the dogs: (1) the authors rating, (2) the neural network's breed prediction and (3) the twitter community's rating. Let's see which dogs are the best under each measurement. And aftwards, let's see if there are coherences between those measurements."
   ]
  },
  {
   "cell_type": "markdown",
   "metadata": {},
   "source": [
    "## WeRateDogs author's best rating\n",
    "The highest rate the *weRateDogs* authors gave were 14/10 credits. In the history of *WeRateDogs* tweets, only 13 dogs achieved this rate. In the following these most outstanding dogs are shown."
   ]
  },
  {
   "cell_type": "markdown",
   "metadata": {},
   "source": [
    ".            |  .        |  .    |  all best rated dogs\n",
    ":-------------------------:|:-------------------------:|:-------------------------:|:-------------------------:\n",
    "![](images/best_rated_dog_0a.jpg)  |  ![](images/best_rated_dog_2a.jpg) |  ![](images/best_rated_dog_3a.jpg) |  ![](images/best_rated_dog_4a.jpg)\n",
    "![](images/best_rated_dog_5a.jpg)  |  ![](images/best_rated_dog_6a.jpg) |  ![](images/best_rated_dog_7a.jpg) |  ![](images/best_rated_dog_8a.jpg)\n",
    "![](images/best_rated_dog_9a.jpg)  |  ![](images/best_rated_dog_10a.jpg) |  ![](images/best_rated_dog_11a.jpg) |  ![](images/best_rated_dog_12a.jpg)\n",
    "![](images/best_rated_dog_1a.jpg) \n"
   ]
  },
  {
   "cell_type": "markdown",
   "metadata": {},
   "source": [
    "## Udacity's neural network best breed prediction \n",
    "But if we ask the Udacity's neural network, which dog was the easiest to classify, it will answer different. This dog's breed *komondor* was the easiest to predict with a prediction confidence of 0.999956.\n"
   ]
  },
  {
   "cell_type": "markdown",
   "metadata": {},
   "source": [
    "![](images/best_predicted_breed_0a.jpg)\n",
    "\n",
    "|   Best predicted dog   |  * * *         | \n",
    "| -------------           |:-------------:      |\n",
    "| **Dog name:**         | an    | \n",
    "| **Dog breed:**            | komondor    |\n",
    "| **prediction:**               | 0.999956|\n",
    "| **rate:**               | 10 / 10|\n",
    "| **retweet:**               | 496|\n",
    "| **favorite:**               | 1040|\n"
   ]
  },
  {
   "cell_type": "markdown",
   "metadata": {},
   "source": [
    "## Twitter's community most retweeted dog\n",
    "\n",
    "The last measurement is obvious and it's defined by the twitter's community. Which dog is the most retweeted and most favored tweet from the twitter account of *WeRateDogs*. This is obvious. Following dog is retweeted and favored the most."
   ]
  },
  {
   "cell_type": "markdown",
   "metadata": {},
   "source": [
    "![](images/df_most_favorited_0a.jpg)\n",
    "\n",
    "|   Most retweeted and favored dog   |  * * *         | \n",
    "| -------------           |:-------------:      |\n",
    "| **Dog name:**         | Stephan    | \n",
    "| **Dog breed:**            | Chihuahua    |\n",
    "| **prediction:**               | 0.953442|\n",
    "| **rate:**               | 13 / 10|\n",
    "| **retweet:**               | 60236|\n",
    "| **favorite:**               | 125519|"
   ]
  },
  {
   "cell_type": "markdown",
   "metadata": {},
   "source": [
    "# Statistical evaluation of all measurements\n",
    "\n",
    "It would be interessting to know if those used measurements to estimate the dogs do correlate. "
   ]
  },
  {
   "cell_type": "markdown",
   "metadata": {},
   "source": [
    "## Retweet and Favorit count\n",
    "First of all, we will compare the retweet amount with the favorite amount. And in this scatter plot, we see that those measurements generated by the twitter's community correlate as was expected.\n",
    "\n",
    "![](plots/retweet_favorit_scatter_b.png)"
   ]
  },
  {
   "cell_type": "markdown",
   "metadata": {},
   "source": [
    "## Retweet count and rating value\n",
    "\n",
    "Another interesting correlation is visible in the scatter plot of the retweet amount over the author's rating. It seems like the higher the author's rating is, the more tweet's are retweeted from the community. Also the favorite count increases with the author's rate. But we have to be careful when interpreting these scatter plots. What we don't see here, is the change of the measurements over time.\n",
    "\n",
    "![](plots/retweet_rating_scatter_b.png)"
   ]
  },
  {
   "cell_type": "markdown",
   "metadata": {},
   "source": [
    "## Rating value over time\n",
    "\n",
    "This is why an additional scatter plot is shown here. It shows that the given rate from the authors has changed over time. There are more great ratings (>10) and less low ratings (<10) in 2017 then there were in 2016. Also the favorite amount increased in the second half. This can be also caused by the increase of popularity of the twitter account. This is another factor which was not considered yet in this data analysis.\n",
    "\n",
    "![](plots/favorit_rating_over_time_b.png)"
   ]
  },
  {
   "cell_type": "markdown",
   "metadata": {},
   "source": [
    "# Conclusion\n",
    "\n",
    "The retweet and favorite counts correlate. And over time we can see that the author's rate increases. But so far, we can not tell if there is a coherence between the author's rate and the community's retweet or favorite count. Because there are factors not considered yet. Both, the time factor and the popularity factor can be biases-not considered factors-that may have influence to the mesurements change and can lead to wrong interpretations."
   ]
  }
 ],
 "metadata": {
  "kernelspec": {
   "display_name": "Python 3",
   "language": "python",
   "name": "python3"
  },
  "language_info": {
   "codemirror_mode": {
    "name": "ipython",
    "version": 3
   },
   "file_extension": ".py",
   "mimetype": "text/x-python",
   "name": "python",
   "nbconvert_exporter": "python",
   "pygments_lexer": "ipython3",
   "version": "3.6.8"
  }
 },
 "nbformat": 4,
 "nbformat_minor": 2
}
