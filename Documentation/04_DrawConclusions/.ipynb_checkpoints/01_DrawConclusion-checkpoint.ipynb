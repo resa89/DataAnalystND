{
 "cells": [
  {
   "cell_type": "markdown",
   "metadata": {},
   "source": [
    "# Draw Conclusions\n",
    "\n",
    "typically drawn from:\n",
    "- from **machine learning algorithms**\n",
    "- or **inferential statistics**\n",
    "--> learn in other Udacity courses\n",
    "\n",
    "\n",
    "here we learn drawing conlusions with:\n",
    "- **descriptive statistics**\n",
    "- **visualizations**"
   ]
  },
  {
   "cell_type": "code",
   "execution_count": null,
   "metadata": {},
   "outputs": [],
   "source": [
    "import pandas as pd\n",
    "import matplotlib.pyplot as plt\n",
    "import seaborn as sns\n",
    "\n",
    "%matplotlib inline\n",
    "%config InlineBackend.figure_format = 'retina'\n",
    "\n",
    "df = pd.read_csv('data.csv')"
   ]
  },
  {
   "cell_type": "markdown",
   "metadata": {},
   "source": [
    "## Subset\n",
    "### Showing two groups in relation"
   ]
  },
  {
   "cell_type": "code",
   "execution_count": null,
   "metadata": {},
   "outputs": [],
   "source": [
    "df_m = df[df['gender'] == 'M']\n",
    "df_f = df[df['gender'] == 'F']"
   ]
  },
  {
   "cell_type": "code",
   "execution_count": null,
   "metadata": {},
   "outputs": [],
   "source": [
    "fig, ax = plt.subplots(figsize=(8,6))\n",
    "ax.hist(df_m['No_show'], alpha=0.5, label='male')\n",
    "ax.hist(df_f['No_show'], alpha=0.5, label='female')\n",
    "ax.set_title('Distributions of male and female patients no_show')\n",
    "ax.set_xlabel('No_show')\n",
    "ax.set_ylabel('Count')\n",
    "#ax.legend(loc='upper right') # other data\n",
    "plt.show()"
   ]
  },
  {
   "cell_type": "markdown",
   "metadata": {},
   "source": [
    "## Select specific strings"
   ]
  },
  {
   "cell_type": "markdown",
   "metadata": {},
   "source": [
    "### String starts with"
   ]
  },
  {
   "cell_type": "code",
   "execution_count": null,
   "metadata": {},
   "outputs": [],
   "source": [
    "# total sales for the last month\n",
    "df[df['week'].str.startswith('2018-02-')].sum()"
   ]
  },
  {
   "cell_type": "markdown",
   "metadata": {},
   "source": [
    "### On one day"
   ]
  },
  {
   "cell_type": "code",
   "execution_count": null,
   "metadata": {},
   "outputs": [],
   "source": [
    "# sales on march 13, 2016\n",
    "df[df['week'] == '2016-03-13']"
   ]
  },
  {
   "cell_type": "markdown",
   "metadata": {},
   "source": [
    "### Sales in last 3 months"
   ]
  },
  {
   "cell_type": "code",
   "execution_count": null,
   "metadata": {},
   "outputs": [],
   "source": [
    "# total sales during most recent 3 month period\n",
    "df[df['week'].str.startswith('2018-02-') | df['week'].str.startswith('2018-01-') | df['week'].str.startswith('2017-12-')].sum()"
   ]
  },
  {
   "cell_type": "markdown",
   "metadata": {},
   "source": [
    "## Select one row"
   ]
  },
  {
   "cell_type": "markdown",
   "metadata": {},
   "source": [
    "### Worst week"
   ]
  },
  {
   "cell_type": "code",
   "execution_count": null,
   "metadata": {},
   "outputs": [],
   "source": [
    "# worst week for store C\n",
    "df[df['storeC'] == df['storeC'].min()]"
   ]
  },
  {
   "cell_type": "markdown",
   "metadata": {},
   "source": [
    "## Average wine quality by color"
   ]
  },
  {
   "cell_type": "code",
   "execution_count": null,
   "metadata": {},
   "outputs": [],
   "source": [
    "color_means = wine_df.groupby('color')['quality'].mean()\n",
    "color_means.plot(kind='bar', title=\"Average wine quality by color\", color=['red', 'white'], alpha=.7)\n",
    "plt.xlabel('Colors', fontsize=18)\n",
    "plt.ylabel('Quality', fontsize=18)"
   ]
  },
  {
   "cell_type": "code",
   "execution_count": null,
   "metadata": {
    "collapsed": true
   },
   "outputs": [],
   "source": [
    "# where does it come from?\n",
    "counts = wine_df.groupby(['color','quality']).counts()\n",
    "counts"
   ]
  },
  {
   "cell_type": "code",
   "execution_count": null,
   "metadata": {},
   "outputs": [],
   "source": [
    "# count pH values per wine color\n",
    "counts = counts.['pH']\n",
    "counts.plot(kind='bar', title='Counts by Wine Color and Quality', color=['red', 'white'], alpha=.7)\n",
    "plt.xlabel('Qulity and Color', fontsize=18)\n",
    "plt.ylabel('Count', fontsize=18)"
   ]
  },
  {
   "cell_type": "code",
   "execution_count": null,
   "metadata": {},
   "outputs": [],
   "source": [
    "# improve by using proportional count\n",
    "totals = wine_df.groupby('color').count()['pH']\n",
    "proportions = counts / totals\n",
    "proportions.plot(kind='bar', title='Counts by Wine Color and Quality', color=['red', 'white'], alpha=.7)\n",
    "plt.xlabel('Qulity and Color', fontsize=18)\n",
    "plt.ylabel('Proportion', fontsize=18)"
   ]
  },
  {
   "cell_type": "markdown",
   "metadata": {},
   "source": [
    "## Bar chart"
   ]
  },
  {
   "cell_type": "code",
   "execution_count": null,
   "metadata": {},
   "outputs": [],
   "source": [
    "# plot bars\n",
    "plt.bar([1, 2, 3], [224, 620, 425])\n",
    "\n",
    "# specify x coordinates of tick labels and their labels\n",
    "plt.xticks([1, 2, 3], ['a', 'b', 'c']);"
   ]
  },
  {
   "cell_type": "code",
   "execution_count": null,
   "metadata": {},
   "outputs": [],
   "source": [
    "# plot bars with x tick labels\n",
    "plt.bar([1, 2, 3], [224, 620, 425], tick_label=['a', 'b', 'c']);"
   ]
  },
  {
   "cell_type": "code",
   "execution_count": null,
   "metadata": {},
   "outputs": [],
   "source": [
    "# set title and label axes\n",
    "plt.bar([1, 2, 3], [224, 620, 425], tick_label=['a', 'b', 'c'])\n",
    "plt.title('Some Title')\n",
    "plt.xlabel('Some X Label')\n",
    "plt.ylabel('Some Y Label');"
   ]
  }
 ],
 "metadata": {
  "kernelspec": {
   "display_name": "Python 3",
   "language": "python",
   "name": "python3"
  },
  "language_info": {
   "codemirror_mode": {
    "name": "ipython",
    "version": 3
   },
   "file_extension": ".py",
   "mimetype": "text/x-python",
   "name": "python",
   "nbconvert_exporter": "python",
   "pygments_lexer": "ipython3",
   "version": "3.7.2"
  }
 },
 "nbformat": 4,
 "nbformat_minor": 2
}
